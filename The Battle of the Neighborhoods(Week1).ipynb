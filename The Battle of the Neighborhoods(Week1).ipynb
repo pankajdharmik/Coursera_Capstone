{
    "cells": [
        {
            "cell_type": "markdown",
            "metadata": {
                "collapsed": true
            },
            "source": "# The Battle of the Neighborhoods( Week 1)"
        },
        {
            "cell_type": "markdown",
            "metadata": {},
            "source": "# Introduction"
        },
        {
            "cell_type": "markdown",
            "metadata": {},
            "source": " Mumbai, dream city of India is well known for tourist attraction, hence a lot of places to eat opens in this city of amazing history, architecture, art, canals, red lights, and, well, coffeeshop culture. \n### Finding the best coffee shop and restaurant for tourist has become a hectic task due to lot of options. Hence here will will try to find out the nearest and best coffee shop for tourist as well as local people.\nThus it is strongly advised by the locals and experienced tourists to plan your coffeeshop experience.But how does one avoid performing a double search for such a winning combination? Our research is to fill this niche."
        },
        {
            "cell_type": "markdown",
            "metadata": {},
            "source": "## Business Problem"
        },
        {
            "cell_type": "markdown",
            "metadata": {},
            "source": "Different groups of people would benefit from our project\u2019s results, namely:\n\n1.Potential restaurant owners who provide good quality of food and coffee.\n\n2.Tourists planning their first experience as described above.\n\n3.Mumbai visitors or even locals looking for new ideas for their following from-coffeeshop-to-restaurant tour."
        },
        {
            "cell_type": "markdown",
            "metadata": {},
            "source": "### To achieve this, we will create a short and simple guide on where to eat in Mumbai based on Foursquare likes, restaurant category and geographical location data for restaurants and coffeeshops. We will also cluster all the restaurants of Mumbai by their proximity to coffeeshops so that our user could easily determine what is the best duo of places of their interest."
        },
        {
            "cell_type": "markdown",
            "metadata": {},
            "source": "# Required Data"
        },
        {
            "cell_type": "markdown",
            "metadata": {},
            "source": "### For this assignment, we will be utilizing the Foursquare API to pull the following location data on restaurants and coffeeshops in Mumbai:"
        },
        {
            "cell_type": "markdown",
            "metadata": {},
            "source": " 1.Venue Name\n \n2.Venue ID\n\n3.Venue Location\n\n4.Venue Category\n\n5.Count of Likes"
        },
        {
            "cell_type": "code",
            "execution_count": null,
            "metadata": {},
            "outputs": [],
            "source": ""
        }
    ],
    "metadata": {
        "kernelspec": {
            "display_name": "Python 3.6",
            "language": "python",
            "name": "python3"
        },
        "language_info": {
            "codemirror_mode": {
                "name": "ipython",
                "version": 3
            },
            "file_extension": ".py",
            "mimetype": "text/x-python",
            "name": "python",
            "nbconvert_exporter": "python",
            "pygments_lexer": "ipython3",
            "version": "3.6.8"
        }
    },
    "nbformat": 4,
    "nbformat_minor": 1
}